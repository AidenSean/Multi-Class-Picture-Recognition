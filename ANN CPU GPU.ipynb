{
 "cells": [
  {
   "cell_type": "code",
   "execution_count": 1,
   "id": "657365ab",
   "metadata": {},
   "outputs": [
    {
     "name": "stdout",
     "output_type": "stream",
     "text": [
      "WARNING:tensorflow:From D:\\Anaconda\\Lib\\site-packages\\keras\\src\\losses.py:2976: The name tf.losses.sparse_softmax_cross_entropy is deprecated. Please use tf.compat.v1.losses.sparse_softmax_cross_entropy instead.\n",
      "\n"
     ]
    }
   ],
   "source": [
    "import tensorflow as tf\n",
    "from tensorflow import keras\n",
    "import matplotlib.pyplot as plt\n",
    "#%matplotlib inline\n",
    "import numpy as np\n",
    "import pandas as pd"
   ]
  },
  {
   "cell_type": "code",
   "execution_count": 2,
   "id": "e1430806",
   "metadata": {},
   "outputs": [
    {
     "data": {
      "text/plain": [
       "[PhysicalDevice(name='/physical_device:CPU:0', device_type='CPU')]"
      ]
     },
     "execution_count": 2,
     "metadata": {},
     "output_type": "execute_result"
    }
   ],
   "source": [
    "tf.config.experimental.list_physical_devices()"
   ]
  },
  {
   "cell_type": "code",
   "execution_count": 3,
   "id": "0398e9a6",
   "metadata": {},
   "outputs": [],
   "source": [
    "(X_train,y_train),(X_test,y_test)=keras.datasets.cifar10.load_data()"
   ]
  },
  {
   "cell_type": "code",
   "execution_count": 4,
   "id": "c6aaad93",
   "metadata": {},
   "outputs": [
    {
     "data": {
      "text/plain": [
       "(50000, 32, 32, 3)"
      ]
     },
     "execution_count": 4,
     "metadata": {},
     "output_type": "execute_result"
    }
   ],
   "source": [
    "X_train.shape"
   ]
  },
  {
   "cell_type": "code",
   "execution_count": 5,
   "id": "8e423c7a",
   "metadata": {},
   "outputs": [
    {
     "data": {
      "text/plain": [
       "(32, 32, 3)"
      ]
     },
     "execution_count": 5,
     "metadata": {},
     "output_type": "execute_result"
    }
   ],
   "source": [
    "X_train[0].shape"
   ]
  },
  {
   "cell_type": "code",
   "execution_count": 6,
   "id": "5ede3afc",
   "metadata": {},
   "outputs": [
    {
     "data": {
      "text/plain": [
       "(32, 3)"
      ]
     },
     "execution_count": 6,
     "metadata": {},
     "output_type": "execute_result"
    }
   ],
   "source": [
    "X_train[0][0].shape"
   ]
  },
  {
   "cell_type": "code",
   "execution_count": 7,
   "id": "0ab3e4e5",
   "metadata": {},
   "outputs": [],
   "source": [
    "def plot_sample(index):\n",
    "    plt.figure(figsize=(10,1))\n",
    "    plt.imshow(X_train[index])"
   ]
  },
  {
   "cell_type": "code",
   "execution_count": 8,
   "id": "c457e6af",
   "metadata": {},
   "outputs": [
    {
     "data": {
      "image/png": "[encoded data removed]",
      "text/plain": [
       "<Figure size 1000x100 with 1 Axes>"
      ]
     },
     "metadata": {},
     "output_type": "display_data"
    }
   ],
   "source": [
    "plot_sample(2)"
   ]
  },
  {
   "cell_type": "code",
   "execution_count": 9,
   "id": "5fc70f47",
   "metadata": {},
   "outputs": [
    {
     "data": {
      "image/png": "[encoded data removed]",
      "text/plain": [
       "<Figure size 1000x100 with 1 Axes>"
      ]
     },
     "metadata": {},
     "output_type": "display_data"
    }
   ],
   "source": [
    "plot_sample(3)"
   ]
  },
  {
   "cell_type": "code",
   "execution_count": 10,
   "id": "3ae49296",
   "metadata": {},
   "outputs": [
    {
     "data": {
      "text/plain": [
       "(1,)"
      ]
     },
     "execution_count": 10,
     "metadata": {},
     "output_type": "execute_result"
    }
   ],
   "source": [
    "y_train[3].shape"
   ]
  },
  {
   "cell_type": "code",
   "execution_count": 11,
   "id": "fef6c342",
   "metadata": {},
   "outputs": [],
   "source": [
    "classes = [\"airplane\", \"automobile\", \"bird\", \"cat\", \"deer\", \"dog\", \"frog\", \"horse\", \"ship\",\"truck\"]"
   ]
  },
  {
   "cell_type": "code",
   "execution_count": 12,
   "id": "3d487fe7",
   "metadata": {},
   "outputs": [
    {
     "data": {
      "text/plain": [
       "4"
      ]
     },
     "execution_count": 12,
     "metadata": {},
     "output_type": "execute_result"
    }
   ],
   "source": [
    "y_train[3][0]"
   ]
  },
  {
   "cell_type": "code",
   "execution_count": 13,
   "id": "e32683ae",
   "metadata": {},
   "outputs": [
    {
     "data": {
      "text/plain": [
       "'deer'"
      ]
     },
     "execution_count": 13,
     "metadata": {},
     "output_type": "execute_result"
    }
   ],
   "source": [
    "classes[y_train[3][0]]"
   ]
  },
  {
   "cell_type": "code",
   "execution_count": 14,
   "id": "2d763932",
   "metadata": {},
   "outputs": [],
   "source": [
    "X_train_scaled=X_train/255\n",
    "X_test_scaled=X_test/255"
   ]
  },
  {
   "cell_type": "code",
   "execution_count": 15,
   "id": "75748a12",
   "metadata": {
    "scrolled": false
   },
   "outputs": [
    {
     "data": {
      "text/plain": [
       "array([[0., 0., 0., ..., 0., 0., 0.],\n",
       "       [0., 0., 0., ..., 0., 0., 1.],\n",
       "       [0., 0., 0., ..., 0., 0., 1.],\n",
       "       ...,\n",
       "       [0., 0., 0., ..., 0., 0., 1.],\n",
       "       [0., 1., 0., ..., 0., 0., 0.],\n",
       "       [0., 1., 0., ..., 0., 0., 0.]], dtype=float32)"
      ]
     },
     "execution_count": 15,
     "metadata": {},
     "output_type": "execute_result"
    }
   ],
   "source": [
    "#one hot encoding\n",
    "y_train_categorical = keras.utils.to_categorical(\n",
    "    y_train, num_classes=10, dtype='float32'\n",
    ")\n",
    "\n",
    "y_test_categorical = keras.utils.to_categorical(\n",
    "    y_test, num_classes=10, dtype='float32'\n",
    ")\n",
    "\n",
    "y_train_categorical[0:]"
   ]
  },
  {
   "cell_type": "code",
   "execution_count": 16,
   "id": "f9430141",
   "metadata": {},
   "outputs": [
    {
     "data": {
      "text/plain": [
       "(50000, 32, 32, 3)"
      ]
     },
     "execution_count": 16,
     "metadata": {},
     "output_type": "execute_result"
    }
   ],
   "source": [
    "X_train.shape"
   ]
  },
  {
   "cell_type": "code",
   "execution_count": 17,
   "id": "f016812b",
   "metadata": {},
   "outputs": [
    {
     "data": {
      "text/plain": [
       "3072"
      ]
     },
     "execution_count": 17,
     "metadata": {},
     "output_type": "execute_result"
    }
   ],
   "source": [
    "32*32*3"
   ]
  },
  {
   "cell_type": "code",
   "execution_count": 18,
   "id": "d6921a68",
   "metadata": {},
   "outputs": [
    {
     "name": "stdout",
     "output_type": "stream",
     "text": [
      "WARNING:tensorflow:From D:\\Anaconda\\Lib\\site-packages\\keras\\src\\backend.py:873: The name tf.get_default_graph is deprecated. Please use tf.compat.v1.get_default_graph instead.\n",
      "\n",
      "WARNING:tensorflow:From D:\\Anaconda\\Lib\\site-packages\\keras\\src\\optimizers\\__init__.py:309: The name tf.train.Optimizer is deprecated. Please use tf.compat.v1.train.Optimizer instead.\n",
      "\n",
      "Epoch 1/50\n",
      "WARNING:tensorflow:From D:\\Anaconda\\Lib\\site-packages\\keras\\src\\utils\\tf_utils.py:492: The name tf.ragged.RaggedTensorValue is deprecated. Please use tf.compat.v1.ragged.RaggedTensorValue instead.\n",
      "\n",
      "WARNING:tensorflow:From D:\\Anaconda\\Lib\\site-packages\\keras\\src\\engine\\base_layer_utils.py:384: The name tf.executing_eagerly_outside_functions is deprecated. Please use tf.compat.v1.executing_eagerly_outside_functions instead.\n",
      "\n",
      "1563/1563 [==============================] - 12s 7ms/step - loss: 1.8743 - accuracy: 0.3325\n",
      "Epoch 2/50\n",
      "1563/1563 [==============================] - 11s 7ms/step - loss: 1.6996 - accuracy: 0.4039\n",
      "Epoch 3/50\n",
      "1563/1563 [==============================] - 11s 7ms/step - loss: 1.6238 - accuracy: 0.4288\n",
      "Epoch 4/50\n",
      "1563/1563 [==============================] - 11s 7ms/step - loss: 1.5707 - accuracy: 0.4513\n",
      "Epoch 5/50\n",
      "1563/1563 [==============================] - 11s 7ms/step - loss: 1.5296 - accuracy: 0.4630\n",
      "Epoch 6/50\n",
      "1563/1563 [==============================] - 12s 7ms/step - loss: 1.4961 - accuracy: 0.4743\n",
      "Epoch 7/50\n",
      "1563/1563 [==============================] - 11s 7ms/step - loss: 1.4655 - accuracy: 0.4878\n",
      "Epoch 8/50\n",
      "1563/1563 [==============================] - 11s 7ms/step - loss: 1.4387 - accuracy: 0.4978\n",
      "Epoch 9/50\n",
      "1563/1563 [==============================] - 11s 7ms/step - loss: 1.4156 - accuracy: 0.5064\n",
      "Epoch 10/50\n",
      "1563/1563 [==============================] - 11s 7ms/step - loss: 1.3910 - accuracy: 0.5121\n",
      "Epoch 11/50\n",
      "1563/1563 [==============================] - 11s 7ms/step - loss: 1.3723 - accuracy: 0.5194\n",
      "Epoch 12/50\n",
      "1563/1563 [==============================] - 13s 8ms/step - loss: 1.3538 - accuracy: 0.5242\n",
      "Epoch 13/50\n",
      "1563/1563 [==============================] - 12s 8ms/step - loss: 1.3370 - accuracy: 0.5317\n",
      "Epoch 14/50\n",
      "1563/1563 [==============================] - 11s 7ms/step - loss: 1.3197 - accuracy: 0.5404\n",
      "Epoch 15/50\n",
      "1563/1563 [==============================] - 11s 7ms/step - loss: 1.3018 - accuracy: 0.5456\n",
      "Epoch 16/50\n",
      "1563/1563 [==============================] - 11s 7ms/step - loss: 1.2897 - accuracy: 0.5507\n",
      "Epoch 17/50\n",
      "1563/1563 [==============================] - 11s 7ms/step - loss: 1.2731 - accuracy: 0.5540\n",
      "Epoch 18/50\n",
      "1563/1563 [==============================] - 11s 7ms/step - loss: 1.2581 - accuracy: 0.5603\n",
      "Epoch 19/50\n",
      "1563/1563 [==============================] - 11s 7ms/step - loss: 1.2453 - accuracy: 0.5641\n",
      "Epoch 20/50\n",
      "1563/1563 [==============================] - 11s 7ms/step - loss: 1.2330 - accuracy: 0.5674\n",
      "Epoch 21/50\n",
      "1563/1563 [==============================] - 11s 7ms/step - loss: 1.2176 - accuracy: 0.5752\n",
      "Epoch 22/50\n",
      "1563/1563 [==============================] - 11s 7ms/step - loss: 1.2092 - accuracy: 0.5755\n",
      "Epoch 23/50\n",
      "1563/1563 [==============================] - 11s 7ms/step - loss: 1.1957 - accuracy: 0.5808\n",
      "Epoch 24/50\n",
      "1563/1563 [==============================] - 12s 7ms/step - loss: 1.1849 - accuracy: 0.5856\n",
      "Epoch 25/50\n",
      "1563/1563 [==============================] - 12s 7ms/step - loss: 1.1724 - accuracy: 0.5889\n",
      "Epoch 26/50\n",
      "1563/1563 [==============================] - 11s 7ms/step - loss: 1.1624 - accuracy: 0.5946\n",
      "Epoch 27/50\n",
      "1563/1563 [==============================] - 12s 8ms/step - loss: 1.1527 - accuracy: 0.5990\n",
      "Epoch 28/50\n",
      "1563/1563 [==============================] - 11s 7ms/step - loss: 1.1432 - accuracy: 0.5989\n",
      "Epoch 29/50\n",
      "1563/1563 [==============================] - 11s 7ms/step - loss: 1.1317 - accuracy: 0.6067\n",
      "Epoch 30/50\n",
      "1563/1563 [==============================] - 11s 7ms/step - loss: 1.1204 - accuracy: 0.6082\n",
      "Epoch 31/50\n",
      "1563/1563 [==============================] - 11s 7ms/step - loss: 1.1108 - accuracy: 0.6120\n",
      "Epoch 32/50\n",
      "1563/1563 [==============================] - 11s 7ms/step - loss: 1.1000 - accuracy: 0.6163\n",
      "Epoch 33/50\n",
      "1563/1563 [==============================] - 11s 7ms/step - loss: 1.0919 - accuracy: 0.6188\n",
      "Epoch 34/50\n",
      "1563/1563 [==============================] - 11s 7ms/step - loss: 1.0823 - accuracy: 0.6231\n",
      "Epoch 35/50\n",
      "1563/1563 [==============================] - 11s 7ms/step - loss: 1.0740 - accuracy: 0.6240\n",
      "Epoch 36/50\n",
      "1563/1563 [==============================] - 11s 7ms/step - loss: 1.0647 - accuracy: 0.6278\n",
      "Epoch 37/50\n",
      "1563/1563 [==============================] - 11s 7ms/step - loss: 1.0550 - accuracy: 0.6326\n",
      "Epoch 38/50\n",
      "1563/1563 [==============================] - 11s 7ms/step - loss: 1.0450 - accuracy: 0.6367\n",
      "Epoch 39/50\n",
      "1563/1563 [==============================] - 11s 7ms/step - loss: 1.0393 - accuracy: 0.6385\n",
      "Epoch 40/50\n",
      "1563/1563 [==============================] - 11s 7ms/step - loss: 1.0255 - accuracy: 0.6426\n",
      "Epoch 41/50\n",
      "1563/1563 [==============================] - 11s 7ms/step - loss: 1.0172 - accuracy: 0.6438\n",
      "Epoch 42/50\n",
      "1563/1563 [==============================] - 11s 7ms/step - loss: 1.0103 - accuracy: 0.6485\n",
      "Epoch 43/50\n",
      "1563/1563 [==============================] - 11s 7ms/step - loss: 1.0021 - accuracy: 0.6502\n",
      "Epoch 44/50\n",
      "1563/1563 [==============================] - 12s 7ms/step - loss: 0.9905 - accuracy: 0.6549\n",
      "Epoch 45/50\n",
      "1563/1563 [==============================] - 12s 7ms/step - loss: 0.9823 - accuracy: 0.6574\n",
      "Epoch 46/50\n",
      "1563/1563 [==============================] - 12s 7ms/step - loss: 0.9767 - accuracy: 0.6572\n",
      "Epoch 47/50\n",
      "1563/1563 [==============================] - 11s 7ms/step - loss: 0.9695 - accuracy: 0.6623\n",
      "Epoch 48/50\n",
      "1563/1563 [==============================] - 11s 7ms/step - loss: 0.9598 - accuracy: 0.6647\n",
      "Epoch 49/50\n",
      "1563/1563 [==============================] - 11s 7ms/step - loss: 0.9512 - accuracy: 0.6695\n",
      "Epoch 50/50\n",
      "1563/1563 [==============================] - 11s 7ms/step - loss: 0.9439 - accuracy: 0.6700\n"
     ]
    },
    {
     "data": {
      "text/plain": [
       "<keras.src.callbacks.History at 0x1a538ae8e50>"
      ]
     },
     "execution_count": 18,
     "metadata": {},
     "output_type": "execute_result"
    }
   ],
   "source": [
    "model = keras.Sequential([\n",
    "    keras.layers.Flatten(input_shape=(32,32,3)),\n",
    "    keras.layers.Dense(300,activation='relu'),\n",
    "    #keras.layers.Dense(3000,activation='relu'),\n",
    "    keras.layers.Dense(10, activation='sigmoid')\n",
    "])\n",
    "\n",
    "model.compile(optimizer='SGD',\n",
    "               loss='categorical_crossentropy',\n",
    "               metrics=['accuracy'])\n",
    "\n",
    "model.fit(X_train_scaled, y_train_categorical, epochs=50)"
   ]
  },
  {
   "cell_type": "code",
   "execution_count": 19,
   "id": "b6ee6e07",
   "metadata": {},
   "outputs": [
    {
     "name": "stdout",
     "output_type": "stream",
     "text": [
      "313/313 [==============================] - 1s 4ms/step\n"
     ]
    },
    {
     "data": {
      "text/plain": [
       "'ship'"
      ]
     },
     "execution_count": 19,
     "metadata": {},
     "output_type": "execute_result"
    }
   ],
   "source": [
    "classes [np.argmax(model.predict(X_test_scaled)[1])]"
   ]
  },
  {
   "cell_type": "code",
   "execution_count": 20,
   "id": "026ec27a",
   "metadata": {},
   "outputs": [
    {
     "data": {
      "text/plain": [
       "'ship'"
      ]
     },
     "execution_count": 20,
     "metadata": {},
     "output_type": "execute_result"
    }
   ],
   "source": [
    "classes[y_test[1][0]]"
   ]
  },
  {
   "cell_type": "code",
   "execution_count": 21,
   "id": "307e5e33",
   "metadata": {},
   "outputs": [],
   "source": [
    "def get_model():\n",
    "    model = keras.Sequential([\n",
    "    keras.layers.Flatten(input_shape=(32,32,3)),\n",
    "    keras.layers.Dense(300,activation='relu'),\n",
    "    #keras.layers.Dense(3000,activation='relu'),\n",
    "    keras.layers.Dense(10, activation='sigmoid')\n",
    "    ])\n",
    "    model.compile(optimizer='SGD',\n",
    "               loss='categorical_crossentropy',\n",
    "               metrics=['accuracy'])\n",
    "    return model"
   ]
  },
  {
   "cell_type": "code",
   "execution_count": 22,
   "id": "b91c37d2",
   "metadata": {},
   "outputs": [],
   "source": [
    "#%%timeit -n1 -r1\n",
    "#calculate time of cell "
   ]
  },
  {
   "cell_type": "code",
   "execution_count": 23,
   "id": "6c366127",
   "metadata": {},
   "outputs": [
    {
     "name": "stdout",
     "output_type": "stream",
     "text": [
      "WARNING:tensorflow:From D:\\Anaconda\\Lib\\site-packages\\keras\\src\\layers\\pooling\\max_pooling2d.py:161: The name tf.nn.max_pool is deprecated. Please use tf.nn.max_pool2d instead.\n",
      "\n",
      "Epoch 1/10\n",
      "1563/1563 [==============================] - 28s 17ms/step - loss: 1.5148 - accuracy: 0.4558\n",
      "Epoch 2/10\n",
      "1563/1563 [==============================] - 27s 17ms/step - loss: 1.1378 - accuracy: 0.5997\n",
      "Epoch 3/10\n",
      "1563/1563 [==============================] - 26s 17ms/step - loss: 1.0040 - accuracy: 0.6476\n",
      "Epoch 4/10\n",
      "1563/1563 [==============================] - 26s 17ms/step - loss: 0.9221 - accuracy: 0.6760\n",
      "Epoch 5/10\n",
      "1563/1563 [==============================] - 26s 17ms/step - loss: 0.8685 - accuracy: 0.6957\n",
      "Epoch 6/10\n",
      "1563/1563 [==============================] - 27s 17ms/step - loss: 0.8233 - accuracy: 0.7122\n",
      "Epoch 7/10\n",
      "1563/1563 [==============================] - 26s 17ms/step - loss: 0.7839 - accuracy: 0.7246\n",
      "Epoch 8/10\n",
      "1563/1563 [==============================] - 26s 17ms/step - loss: 0.7502 - accuracy: 0.7387\n",
      "Epoch 9/10\n",
      "1563/1563 [==============================] - 26s 17ms/step - loss: 0.7170 - accuracy: 0.7512\n",
      "Epoch 10/10\n",
      "1563/1563 [==============================] - 26s 17ms/step - loss: 0.6938 - accuracy: 0.7569\n"
     ]
    },
    {
     "data": {
      "text/plain": [
       "<keras.src.callbacks.History at 0x1a59848fdd0>"
      ]
     },
     "execution_count": 23,
     "metadata": {},
     "output_type": "execute_result"
    }
   ],
   "source": [
    "model = keras.Sequential([\n",
    "    \n",
    "    #cnn\n",
    "    keras.layers.Conv2D(filters=32, padding='same', kernel_size=(3,3),  activation='relu', input_shape=(32,32,3)),\n",
    "    keras.layers.MaxPooling2D((2,2)),\n",
    "    \n",
    "    keras.layers.Conv2D(filters=32, padding='same', kernel_size=(3,3),  activation='relu'),\n",
    "    keras.layers.MaxPooling2D((2,2)),\n",
    "\n",
    "    #dense\n",
    "    keras.layers.Flatten(),\n",
    "    keras.layers.Dense(64,activation='relu'),\n",
    "    #keras.layers.Dense(3000,activation='relu'),\n",
    "    keras.layers.Dense(10, activation='softmax')\n",
    "])\n",
    "\n",
    "model.compile(optimizer='adam',\n",
    "               loss='categorical_crossentropy',\n",
    "               metrics=['accuracy'])\n",
    "\n",
    "model.fit(X_train_scaled, y_train_categorical, epochs=10)"
   ]
  },
  {
   "cell_type": "code",
   "execution_count": 24,
   "id": "f3ebbce1",
   "metadata": {},
   "outputs": [
    {
     "name": "stdout",
     "output_type": "stream",
     "text": [
      "313/313 [==============================] - 3s 8ms/step - loss: 0.9099 - accuracy: 0.6934\n"
     ]
    },
    {
     "data": {
      "text/plain": [
       "[0.90985506772995, 0.6934000253677368]"
      ]
     },
     "execution_count": 24,
     "metadata": {},
     "output_type": "execute_result"
    }
   ],
   "source": [
    "model.evaluate(X_test_scaled,y_test_categorical)"
   ]
  },
  {
   "cell_type": "code",
   "execution_count": 31,
   "id": "da42f596",
   "metadata": {},
   "outputs": [
    {
     "name": "stdout",
     "output_type": "stream",
     "text": [
      "313/313 [==============================] - 2s 7ms/step\n"
     ]
    },
    {
     "data": {
      "text/plain": [
       "'airplane'"
      ]
     },
     "execution_count": 31,
     "metadata": {},
     "output_type": "execute_result"
    }
   ],
   "source": [
    "classes [np.argmax(model.predict(X_test_scaled)[3])]"
   ]
  },
  {
   "cell_type": "code",
   "execution_count": 26,
   "id": "4120b181",
   "metadata": {},
   "outputs": [],
   "source": [
    "#keras.layers.Conv2D(16,3,padding='same',activation='relu')\n",
    "#tf.keras.layers.Conv2D(\n",
    "#    filters,kernel_size,strides=(1,1),padding='valid',data_format=None,\n",
    "#)"
   ]
  },
  {
   "cell_type": "code",
   "execution_count": 32,
   "id": "a65240ee",
   "metadata": {},
   "outputs": [
    {
     "data": {
      "text/plain": [
       "'airplane'"
      ]
     },
     "execution_count": 32,
     "metadata": {},
     "output_type": "execute_result"
    }
   ],
   "source": [
    "classes[y_test[3][0]]"
   ]
  },
  {
   "cell_type": "code",
   "execution_count": null,
   "id": "fc094ce5",
   "metadata": {},
   "outputs": [],
   "source": []
  }
 ],
 "metadata": {
  "kernelspec": {
   "display_name": "Python 3 (ipykernel)",
   "language": "python",
   "name": "python3"
  },
  "language_info": {
   "codemirror_mode": {
    "name": "ipython",
    "version": 3
   },
   "file_extension": ".py",
   "mimetype": "text/x-python",
   "name": "python",
   "nbconvert_exporter": "python",
   "pygments_lexer": "ipython3",
   "version": "3.11.5"
  }
 },
 "nbformat": 4,
 "nbformat_minor": 5
}
